{
 "cells": [
  {
   "cell_type": "code",
   "execution_count": 1,
   "metadata": {},
   "outputs": [
    {
     "name": "stdout",
     "output_type": "stream",
     "text": [
      "/bin/sh: pip: command not found\r\n"
     ]
    }
   ],
   "source": [
    "!pip install pycaret"
   ]
  },
  {
   "cell_type": "code",
   "execution_count": 2,
   "metadata": {},
   "outputs": [
    {
     "name": "stdout",
     "output_type": "stream",
     "text": [
      "/bin/sh: pip: command not found\r\n"
     ]
    }
   ],
   "source": [
    "!pip install pycaret"
   ]
  },
  {
   "cell_type": "code",
   "execution_count": 3,
   "metadata": {},
   "outputs": [
    {
     "ename": "SyntaxError",
     "evalue": "invalid syntax (<ipython-input-3-5a7ca3acca05>, line 1)",
     "output_type": "error",
     "traceback": [
      "\u001b[0;36m  File \u001b[0;32m\"<ipython-input-3-5a7ca3acca05>\"\u001b[0;36m, line \u001b[0;32m1\u001b[0m\n\u001b[0;31m    install pycaret\u001b[0m\n\u001b[0m                  ^\u001b[0m\n\u001b[0;31mSyntaxError\u001b[0m\u001b[0;31m:\u001b[0m invalid syntax\n"
     ]
    }
   ],
   "source": [
    "install pycaret"
   ]
  },
  {
   "cell_type": "code",
   "execution_count": 4,
   "metadata": {},
   "outputs": [
    {
     "name": "stdout",
     "output_type": "stream",
     "text": [
      "usage: install [-bCcpSsv] [-B suffix] [-f flags] [-g group] [-m mode]\r\n",
      "               [-o owner] file1 file2\r\n",
      "       install [-bCcpSsv] [-B suffix] [-f flags] [-g group] [-m mode]\r\n",
      "               [-o owner] file1 ... fileN directory\r\n",
      "       install -d [-v] [-g group] [-m mode] [-o owner] directory ...\r\n"
     ]
    }
   ],
   "source": [
    "!install pycaret"
   ]
  },
  {
   "cell_type": "code",
   "execution_count": 5,
   "metadata": {},
   "outputs": [
    {
     "name": "stdout",
     "output_type": "stream",
     "text": [
      "Collecting package metadata (current_repodata.json): done\n",
      "Solving environment: done\n",
      "\n",
      "## Package Plan ##\n",
      "\n",
      "  environment location: /Users/mingjue/opt/anaconda3/envs/PyCaret\n",
      "\n",
      "  added / updated specs:\n",
      "    - python=3.7\n",
      "\n",
      "\n",
      "The following packages will be downloaded:\n",
      "\n",
      "    package                    |            build\n",
      "    ---------------------------|-----------------\n",
      "    libcxx-10.0.0              |                1         760 KB\n",
      "    libffi-3.3                 |       h0a44026_1          45 KB\n",
      "    ncurses-6.2                |       h0a44026_1         749 KB\n",
      "    pip-20.0.2                 |           py37_3         1.7 MB\n",
      "    python-3.7.7               |       hf48f09d_4        19.8 MB\n",
      "    readline-8.0               |       h1de35cc_0         326 KB\n",
      "    setuptools-46.4.0          |           py37_0         522 KB\n",
      "    sqlite-3.31.1              |       h5c1f38d_1         1.3 MB\n",
      "    xz-5.2.5                   |       h1de35cc_0         240 KB\n",
      "    ------------------------------------------------------------\n",
      "                                           Total:        25.3 MB\n",
      "\n",
      "The following NEW packages will be INSTALLED:\n",
      "\n",
      "  ca-certificates    pkgs/main/osx-64::ca-certificates-2020.1.1-0\n",
      "  certifi            pkgs/main/osx-64::certifi-2020.4.5.1-py37_0\n",
      "  libcxx             pkgs/main/osx-64::libcxx-10.0.0-1\n",
      "  libedit            pkgs/main/osx-64::libedit-3.1.20181209-hb402a30_0\n",
      "  libffi             pkgs/main/osx-64::libffi-3.3-h0a44026_1\n",
      "  ncurses            pkgs/main/osx-64::ncurses-6.2-h0a44026_1\n",
      "  openssl            pkgs/main/osx-64::openssl-1.1.1g-h1de35cc_0\n",
      "  pip                pkgs/main/osx-64::pip-20.0.2-py37_3\n",
      "  python             pkgs/main/osx-64::python-3.7.7-hf48f09d_4\n",
      "  readline           pkgs/main/osx-64::readline-8.0-h1de35cc_0\n",
      "  setuptools         pkgs/main/osx-64::setuptools-46.4.0-py37_0\n",
      "  sqlite             pkgs/main/osx-64::sqlite-3.31.1-h5c1f38d_1\n",
      "  tk                 pkgs/main/osx-64::tk-8.6.8-ha441bb4_0\n",
      "  wheel              pkgs/main/osx-64::wheel-0.34.2-py37_0\n",
      "  xz                 pkgs/main/osx-64::xz-5.2.5-h1de35cc_0\n",
      "  zlib               pkgs/main/osx-64::zlib-1.2.11-h1de35cc_3\n",
      "\n",
      "\n",
      "Proceed ([y]/n)? ^C\n",
      "\n",
      "CondaSystemExit: \n",
      "Operation aborted.  Exiting.\n",
      "\n",
      "\n",
      "Note: you may need to restart the kernel to use updated packages.\n"
     ]
    }
   ],
   "source": [
    "conda create --name PyCaret python=3.7"
   ]
  },
  {
   "cell_type": "code",
   "execution_count": 6,
   "metadata": {},
   "outputs": [
    {
     "ename": "NameError",
     "evalue": "name 'y' is not defined",
     "output_type": "error",
     "traceback": [
      "\u001b[0;31m---------------------------------------------------------------------------\u001b[0m",
      "\u001b[0;31mNameError\u001b[0m                                 Traceback (most recent call last)",
      "\u001b[0;32m<ipython-input-6-9063a9f0e032>\u001b[0m in \u001b[0;36m<module>\u001b[0;34m\u001b[0m\n\u001b[0;32m----> 1\u001b[0;31m \u001b[0my\u001b[0m\u001b[0;34m\u001b[0m\u001b[0;34m\u001b[0m\u001b[0m\n\u001b[0m",
      "\u001b[0;31mNameError\u001b[0m: name 'y' is not defined"
     ]
    }
   ],
   "source": [
    "y"
   ]
  },
  {
   "cell_type": "code",
   "execution_count": null,
   "metadata": {},
   "outputs": [],
   "source": []
  }
 ],
 "metadata": {
  "kernelspec": {
   "display_name": "Python 3",
   "language": "python",
   "name": "python3"
  },
  "language_info": {
   "codemirror_mode": {
    "name": "ipython",
    "version": 3
   },
   "file_extension": ".py",
   "mimetype": "text/x-python",
   "name": "python",
   "nbconvert_exporter": "python",
   "pygments_lexer": "ipython3",
   "version": "3.7.4"
  }
 },
 "nbformat": 4,
 "nbformat_minor": 4
}
